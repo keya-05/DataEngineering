{
 "cells": [
  {
   "cell_type": "code",
   "execution_count": 1,
   "id": "b045cf56-8d25-478a-937c-1e8d660deddf",
   "metadata": {},
   "outputs": [],
   "source": [
    "import pandas as pd\n",
    "import numpy as np\n",
    "import re"
   ]
  },
  {
   "cell_type": "code",
   "execution_count": 2,
   "id": "964c6479-8073-48e6-9498-37fe14ac664f",
   "metadata": {},
   "outputs": [],
   "source": [
    "df=pd.read_csv(\"customers.csv\")"
   ]
  },
  {
   "cell_type": "code",
   "execution_count": 3,
   "id": "d03c102b-8024-44e1-932d-f31348ec8d8b",
   "metadata": {},
   "outputs": [],
   "source": [
    "df=df.drop_duplicates()"
   ]
  },
  {
   "cell_type": "code",
   "execution_count": 4,
   "id": "4884e341-b365-4bea-aa21-89856b0fa850",
   "metadata": {},
   "outputs": [],
   "source": [
    "def is_valid_email(email):\n",
    "    if pd.isna(email):\n",
    "        return false\n",
    "    return re.match(r\"[^@]+@[^@]+\\.[^@]+\",str(email)) is not None"
   ]
  },
  {
   "cell_type": "code",
   "execution_count": 7,
   "id": "f1cb1067-a168-48f5-aa98-e43c87df3ebd",
   "metadata": {},
   "outputs": [],
   "source": [
    "valid_ages=df['age'].dropna()\n",
    "valid_ages=valid_ages[valid_ages>0]\n",
    "median_ages=valid_ages.median()\n",
    "df['age']=df['age'].apply(lambda x: median_ages if pd.isna(x) or x<=0 else x)"
   ]
  },
  {
   "cell_type": "code",
   "execution_count": 8,
   "id": "a05ec6f9-594e-4344-84bc-91d3b967455f",
   "metadata": {},
   "outputs": [],
   "source": [
    "df['name']=df['name'].fillna('Aditya')\n",
    "df['city']=df['city'].fillna('Pune')"
   ]
  },
  {
   "cell_type": "code",
   "execution_count": 9,
   "id": "fb5b3f2e-999b-449e-89e5-9e5cfdd94af0",
   "metadata": {},
   "outputs": [],
   "source": [
    "df['email']=df['email'].fillna('abc@gmail.com')"
   ]
  },
  {
   "cell_type": "code",
   "execution_count": 10,
   "id": "c01b3a3e-c382-48b7-8251-27c9cb871b4f",
   "metadata": {},
   "outputs": [],
   "source": [
    "df.to_csv(\"customer_cleaned2.csv\",index=False)"
   ]
  },
  {
   "cell_type": "code",
   "execution_count": 11,
   "id": "6909cc8f-26a7-4554-b527-43ac05962461",
   "metadata": {},
   "outputs": [
    {
     "name": "stdout",
     "output_type": "stream",
     "text": [
      "Data Cleaning Completed!\n"
     ]
    }
   ],
   "source": [
    "print(\"Data Cleaning Completed!\")"
   ]
  },
  {
   "cell_type": "code",
   "execution_count": null,
   "id": "b80736a1-e7f8-44fa-b078-4437f1d4aa4b",
   "metadata": {},
   "outputs": [],
   "source": []
  }
 ],
 "metadata": {
  "kernelspec": {
   "display_name": "Python 3 (ipykernel)",
   "language": "python",
   "name": "python3"
  },
  "language_info": {
   "codemirror_mode": {
    "name": "ipython",
    "version": 3
   },
   "file_extension": ".py",
   "mimetype": "text/x-python",
   "name": "python",
   "nbconvert_exporter": "python",
   "pygments_lexer": "ipython3",
   "version": "3.12.7"
  }
 },
 "nbformat": 4,
 "nbformat_minor": 5
}
