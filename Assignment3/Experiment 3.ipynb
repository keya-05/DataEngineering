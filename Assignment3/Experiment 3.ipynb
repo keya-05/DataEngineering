{
 "cells": [
  {
   "cell_type": "code",
   "execution_count": 1,
   "id": "4a6dadf3-04eb-4c03-afef-75d3bdf69fbc",
   "metadata": {},
   "outputs": [
    {
     "name": "stdout",
     "output_type": "stream",
     "text": [
      "Requirement already satisfied: requests in c:\\users\\admin\\anaconda3\\lib\\site-packages (2.32.3)\n",
      "Requirement already satisfied: pandas in c:\\users\\admin\\anaconda3\\lib\\site-packages (2.2.2)\n",
      "Requirement already satisfied: sqlalchemy in c:\\users\\admin\\anaconda3\\lib\\site-packages (2.0.34)\n",
      "Requirement already satisfied: charset-normalizer<4,>=2 in c:\\users\\admin\\anaconda3\\lib\\site-packages (from requests) (3.3.2)\n",
      "Requirement already satisfied: idna<4,>=2.5 in c:\\users\\admin\\anaconda3\\lib\\site-packages (from requests) (3.7)\n",
      "Requirement already satisfied: urllib3<3,>=1.21.1 in c:\\users\\admin\\anaconda3\\lib\\site-packages (from requests) (2.2.3)\n",
      "Requirement already satisfied: certifi>=2017.4.17 in c:\\users\\admin\\anaconda3\\lib\\site-packages (from requests) (2025.4.26)\n",
      "Requirement already satisfied: numpy>=1.26.0 in c:\\users\\admin\\anaconda3\\lib\\site-packages (from pandas) (1.26.4)\n",
      "Requirement already satisfied: python-dateutil>=2.8.2 in c:\\users\\admin\\anaconda3\\lib\\site-packages (from pandas) (2.9.0.post0)\n",
      "Requirement already satisfied: pytz>=2020.1 in c:\\users\\admin\\anaconda3\\lib\\site-packages (from pandas) (2024.1)\n",
      "Requirement already satisfied: tzdata>=2022.7 in c:\\users\\admin\\anaconda3\\lib\\site-packages (from pandas) (2023.3)\n",
      "Requirement already satisfied: typing-extensions>=4.6.0 in c:\\users\\admin\\anaconda3\\lib\\site-packages (from sqlalchemy) (4.11.0)\n",
      "Requirement already satisfied: greenlet!=0.4.17 in c:\\users\\admin\\anaconda3\\lib\\site-packages (from sqlalchemy) (3.0.1)\n",
      "Requirement already satisfied: six>=1.5 in c:\\users\\admin\\anaconda3\\lib\\site-packages (from python-dateutil>=2.8.2->pandas) (1.16.0)\n",
      "Note: you may need to restart the kernel to use updated packages.\n"
     ]
    }
   ],
   "source": [
    "pip install requests pandas sqlalchemy\n"
   ]
  },
  {
   "cell_type": "code",
   "execution_count": 2,
   "id": "c877f009-39b5-4fa4-ac82-3f06160018f6",
   "metadata": {
    "scrolled": true
   },
   "outputs": [
    {
     "name": "stdout",
     "output_type": "stream",
     "text": [
      "Collecting psycopg2-binary\n",
      "  Downloading psycopg2_binary-2.9.10-cp312-cp312-win_amd64.whl.metadata (5.0 kB)\n",
      "Downloading psycopg2_binary-2.9.10-cp312-cp312-win_amd64.whl (1.2 MB)\n",
      "   ---------------------------------------- 0.0/1.2 MB ? eta -:--:--\n",
      "   ---------------------------------------- 1.2/1.2 MB 14.3 MB/s eta 0:00:00\n",
      "Installing collected packages: psycopg2-binary\n",
      "Successfully installed psycopg2-binary-2.9.10\n"
     ]
    }
   ],
   "source": [
    "# PostgreSQL\n",
    "!pip install psycopg2-binary"
   ]
  },
  {
   "cell_type": "code",
   "execution_count": 3,
   "id": "81dc086a-c1c1-4d47-8dda-3b52dac9b068",
   "metadata": {},
   "outputs": [
    {
     "name": "stdout",
     "output_type": "stream",
     "text": [
      "Collecting pymysql\n",
      "  Downloading pymysql-1.1.2-py3-none-any.whl.metadata (4.3 kB)\n",
      "Downloading pymysql-1.1.2-py3-none-any.whl (45 kB)\n",
      "Installing collected packages: pymysql\n",
      "Successfully installed pymysql-1.1.2\n"
     ]
    }
   ],
   "source": [
    "# MySQL\n",
    "!pip install pymysql"
   ]
  },
  {
   "cell_type": "code",
   "execution_count": 4,
   "id": "a7d26abd-2578-40bf-aa26-a3eba156edd3",
   "metadata": {},
   "outputs": [
    {
     "name": "stdout",
     "output_type": "stream",
     "text": [
      "Requirement already satisfied: psycopg2-binary in c:\\users\\admin\\anaconda3\\lib\\site-packages (2.9.10)\n",
      "Note: you may need to restart the kernel to use updated packages.\n"
     ]
    }
   ],
   "source": [
    "pip install --user psycopg2-binary"
   ]
  },
  {
   "cell_type": "code",
   "execution_count": 5,
   "id": "b2e106d5-0865-4e51-9ec2-7cfa6966ff0f",
   "metadata": {},
   "outputs": [],
   "source": [
    "import os\n",
    "import requests\n",
    "import pandas as pd\n",
    "from sqlalchemy import create_engine, text\n",
    "from urllib.parse import quote_plus\n",
    "from datetime import date"
   ]
  },
  {
   "cell_type": "code",
   "execution_count": 14,
   "id": "e495c1d6-11c8-4925-adce-7ff701f14ff3",
   "metadata": {},
   "outputs": [],
   "source": [
    "API_KEY = \"7bdaae7abc6622e671495ef02578a955\"   # your OpenWeather key\n",
    "CITY = \"London\"\n",
    "\n",
    "# MySQL connection settings\n",
    "USER = \"root\"\n",
    "PASSWORD = \"1234\"          # replace with your MySQL password\n",
    "HOST = \"127.0.0.1\"                 # use 127.0.0.1 instead of 'localhost'\n",
    "PORT = 3306\n",
    "DB   = \"sales_weatherinfo_db\"\n",
    "\n",
    "# Connection string (password is URL-encoded in case it has special chars)\n",
    "MYSQL_CONN_STRING = f\"mysql+pymysql://{USER}:{quote_plus(PASSWORD)}@{HOST}:{PORT}/{DB}\""
   ]
  },
  {
   "cell_type": "code",
   "execution_count": 15,
   "id": "4a7fb908-e904-4ecc-972f-5e1b7c02e275",
   "metadata": {},
   "outputs": [],
   "source": [
    "def fetch_weather(api_key: str, city: str) -> dict:\n",
    "    \"\"\"Fetch current weather from OpenWeather API.\"\"\"\n",
    "    url = \"https://api.openweathermap.org/data/2.5/weather\"\n",
    "    params = {\"q\": city, \"appid\": api_key.strip(), \"units\": \"metric\"}\n",
    "\n",
    "    r = requests.get(url, params=params, timeout=20)\n",
    "    if r.status_code != 200: #status_code = 200, returns success else error  \n",
    "        try:\n",
    "            print(\"OpenWeather error payload:\", r.json())\n",
    "        except Exception:\n",
    "            print(\"OpenWeather non-JSON response:\", r.text)\n",
    "        r.raise_for_status()\n",
    "\n",
    "    data = r.json()\n",
    "    return {\n",
    "        \"weather_date\": date.today(),\n",
    "        \"city\": city,\n",
    "        \"temp_c\": data[\"main\"][\"temp\"],\n",
    "        \"humidity\": data[\"main\"][\"humidity\"],\n",
    "        \"description\": data[\"weather\"][0][\"description\"],\n",
    "    }"
   ]
  },
  {
   "cell_type": "code",
   "execution_count": 16,
   "id": "9a07df20-1266-4712-9a8b-f9edd4ce9e83",
   "metadata": {},
   "outputs": [],
   "source": [
    "def ensure_weather_table(engine) -> None:\n",
    "    \"\"\"Create table if not exists in MySQL.\"\"\"\n",
    "    #ddl - data definition language in MYSQL, CRUD operations performed on database \n",
    "    ddl = \"\"\"\n",
    "    CREATE TABLE IF NOT EXISTS weather (\n",
    "        weather_date DATE NOT NULL,\n",
    "        city VARCHAR(100) NOT NULL,\n",
    "        temp_c DECIMAL(5,2),\n",
    "        humidity INT,\n",
    "        description VARCHAR(255)\n",
    "    )\n",
    "    \"\"\" \n",
    "    #connecting to mysql and uploading the data into mysql database\n",
    "    with engine.begin() as conn:\n",
    "        conn.execute(text(ddl))\n"
   ]
  },
  {
   "cell_type": "code",
   "execution_count": 17,
   "id": "58bb3d8b-2ced-4632-b5f0-880a53021532",
   "metadata": {},
   "outputs": [],
   "source": [
    "def store_weather_to_db(weather_data: dict, conn_string: str) -> None:\n",
    "    \"\"\"Insert weather data into MySQL.\"\"\"\n",
    "    engine = create_engine(conn_string, pool_pre_ping=True) #pool_pre_ping - to insert data into the table at every instances\n",
    "    ensure_weather_table(engine)\n",
    "    try:\n",
    "        df = pd.DataFrame([weather_data])\n",
    "        df.to_sql(\"weather\", engine, if_exists=\"append\", index=False)\n",
    "        print(f\"Weather data for {weather_data['city']} stored successfully in MySQL.\")\n",
    "    finally:\n",
    "        engine.dispose() #dispose is done to avoid garbage collection"
   ]
  },
  {
   "cell_type": "code",
   "execution_count": 18,
   "id": "1decc212-83bb-4c15-9e65-a9a773a2f08b",
   "metadata": {},
   "outputs": [],
   "source": [
    "def main():\n",
    "    weather = fetch_weather(API_KEY, CITY)\n",
    "    store_weather_to_db(weather, MYSQL_CONN_STRING)"
   ]
  },
  {
   "cell_type": "code",
   "execution_count": 20,
   "id": "d93e8ac8-f340-4fba-a993-be73add48284",
   "metadata": {},
   "outputs": [
    {
     "name": "stdout",
     "output_type": "stream",
     "text": [
      "Weather data for London stored successfully in MySQL.\n"
     ]
    }
   ],
   "source": [
    "if __name__ == \"__main__\":\n",
    "    main()"
   ]
  },
  {
   "cell_type": "code",
   "execution_count": null,
   "id": "aaed1158-2153-4d22-bb3f-0a2e8d0c5691",
   "metadata": {},
   "outputs": [],
   "source": []
  }
 ],
 "metadata": {
  "kernelspec": {
   "display_name": "Python [conda env:base] *",
   "language": "python",
   "name": "conda-base-py"
  },
  "language_info": {
   "codemirror_mode": {
    "name": "ipython",
    "version": 3
   },
   "file_extension": ".py",
   "mimetype": "text/x-python",
   "name": "python",
   "nbconvert_exporter": "python",
   "pygments_lexer": "ipython3",
   "version": "3.12.7"
  }
 },
 "nbformat": 4,
 "nbformat_minor": 5
}
